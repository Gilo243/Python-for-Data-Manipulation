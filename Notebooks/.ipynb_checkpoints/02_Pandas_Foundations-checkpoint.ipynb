{
 "cells": [
  {
   "cell_type": "markdown",
   "metadata": {
    "collapsed": true
   },
   "source": [
    "# Pandas Foundations"
   ]
  },
  {
   "cell_type": "markdown",
   "metadata": {},
   "source": [
    "___Resources___\n",
    "\n",
    "https://bit.ly/ZvcIe9 - pandas documentation\n",
    "\n",
    "https://bit.ly/2tfdyet - pandas documentation - Intro to Data Structures\n",
    "\n"
   ]
  },
  {
   "cell_type": "code",
   "execution_count": 1,
   "metadata": {
    "collapsed": true
   },
   "outputs": [],
   "source": [
    "## Base imports - common alias for pandas is pd and np for numpy\n",
    "\n",
    "import pandas as pd\n",
    "import numpy as np\n",
    "pd.set_option('max_columns', 50)"
   ]
  },
  {
   "cell_type": "markdown",
   "metadata": {},
   "source": [
    "## Pandas Data Types"
   ]
  },
  {
   "cell_type": "markdown",
   "metadata": {},
   "source": [
    "Broadly speaking, data can be classed as continuous or categorical. \n",
    "\n",
    "__Continuous__ -  numeric and represents some form of measurement\n",
    "\n",
    "__Categorical__ - discrete, finite amounts of values\n",
    "\n",
    "In pandas there are distinct data types. Almost all data types are built directly from NumPy. This makes it easier to integrate pandas and NumPy operations."
   ]
  },
  {
   "cell_type": "markdown",
   "metadata": {},
   "source": [
    "| Data Type Name | NumPy/pandas object | Pandas string name | Notes |\n",
    "| --- | --- | --- | --- |\n",
    "| Boolean | _np.bool_ | _boolean_ | -  Stored as a single byte 0/1 <br> - True or False values |\n",
    "| Integer | _np.int_ | _int_ | -  Default is 64 bits |\n",
    "| Float | _np.float_ | _float_ | -  Default is 64 bits |\n",
    "| Complex | _np.complex_ | _complex_ | - Rarely used |\n",
    "| Object | _np.object_ | _O, object_ | - Typically strings <br> -  Catch-all for columns with multiple <br> different types or other Python objects |\n",
    "| Datetime | _np.datetime64,_ <br> _pd.Timestamp_ | _datetime64_ | -  Specific moment in time <br> (nanosecond precision) |\n",
    "| Timedelta | _np.timedelta64,_ <br> _pd.Timedelta_ | _timedelta64_ | -  Duration of time <br> (days to nanoseconds) |\n",
    "| Categorical | _pd.categorical_ | _category_ | -  Useful for object columns with <br> relatively few unique values |"
   ]
  },
  {
   "cell_type": "markdown",
   "metadata": {},
   "source": [
    "Pandas defaults its core numeric types - integers and floats - to 64 bits regardless of the size necessary for all data to fit in memory.\n",
    "\n",
    "**Quick win** - If stuggling with a large dataset, look to set the data type of individual columns for memory reduction."
   ]
  },
  {
   "cell_type": "markdown",
   "metadata": {},
   "source": [
    "## Pandas Data Structures"
   ]
  },
  {
   "cell_type": "markdown",
   "metadata": {},
   "source": [
    "### Series\n",
    "\n",
    "A `Series` is a one-dimensional array of __indexed__ data capable of holding any data type. The axis labels are collectively referred to as the index. It is this index that differentiates a Series from a normal array."
   ]
  },
  {
   "cell_type": "code",
   "execution_count": 2,
   "metadata": {},
   "outputs": [
    {
     "data": {
      "text/plain": [
       "0     3\n",
       "1     6\n",
       "2     9\n",
       "3    12\n",
       "4    15\n",
       "dtype: int64"
      ]
     },
     "execution_count": 2,
     "metadata": {},
     "output_type": "execute_result"
    }
   ],
   "source": [
    "# Simple series - created from a list\n",
    "\n",
    "obj = pd.Series([3,6,9,12,15])\n",
    "obj"
   ]
  },
  {
   "cell_type": "markdown",
   "metadata": {},
   "source": [
    "By default, each item will receive an index label from 0 to N, where N is the length of the`Series`minus one. However because of the **explicit** nature of the index, it need not be an integer."
   ]
  },
  {
   "cell_type": "code",
   "execution_count": 3,
   "metadata": {},
   "outputs": [
    {
     "data": {
      "text/plain": [
       "France     66900000\n",
       "England    53000000\n",
       "Italy      60600000\n",
       "Germany    82670000\n",
       "Spain      46560000\n",
       "dtype: int64"
      ]
     },
     "execution_count": 3,
     "metadata": {},
     "output_type": "execute_result"
    }
   ],
   "source": [
    "# Alternatively - we can specify an index\n",
    "\n",
    "population = pd.Series([66900000, 53000000, 60600000, 82670000, 46560000], index= ['France', 'England', 'Italy', 'Germany', 'Spain'])\n",
    "population"
   ]
  },
  {
   "cell_type": "markdown",
   "metadata": {},
   "source": [
    "### DataFrames"
   ]
  },
  {
   "cell_type": "markdown",
   "metadata": {},
   "source": [
    "A`DataFrame`represents a rectangular table of data and contains an ordered collection of columns, each of which can be a different value type (numeric, string, boolean, etc.).\n",
    "\n",
    "-  A DataFrame has both a row and a column index\n",
    "-  Akin to a spreadsheet\n",
    "-  you can think of a`DataFrame`as a sequence of aligned`Series`objects. (aligned since they share the same index)."
   ]
  },
  {
   "cell_type": "code",
   "execution_count": 4,
   "metadata": {
    "collapsed": true
   },
   "outputs": [],
   "source": [
    "# New series listing the biggest export of the 5 countries from above"
   ]
  },
  {
   "cell_type": "code",
   "execution_count": 5,
   "metadata": {},
   "outputs": [
    {
     "data": {
      "text/plain": [
       "England      Pharmaceuticals\n",
       "Spain               Plastics\n",
       "Italy      Refined Petroleum\n",
       "Germany                 Cars\n",
       "France              Aircraft\n",
       "dtype: object"
      ]
     },
     "execution_count": 5,
     "metadata": {},
     "output_type": "execute_result"
    }
   ],
   "source": [
    "exports = pd.Series(['Pharmaceuticals', 'Plastics', 'Refined Petroleum', 'Cars', 'Aircraft'], index= ['England', 'Spain', 'Italy', 'Germany', 'France'])\n",
    "exports"
   ]
  },
  {
   "cell_type": "code",
   "execution_count": 6,
   "metadata": {},
   "outputs": [
    {
     "data": {
      "text/plain": [
       "France     66900000\n",
       "England    53000000\n",
       "Italy      60600000\n",
       "Germany    82670000\n",
       "Spain      46560000\n",
       "dtype: int64"
      ]
     },
     "execution_count": 6,
     "metadata": {},
     "output_type": "execute_result"
    }
   ],
   "source": [
    "# Population Series defined earlier\n",
    "\n",
    "population"
   ]
  },
  {
   "cell_type": "markdown",
   "metadata": {},
   "source": [
    "Now we have two`Series`, exports and the population`Series`from before. We can use a dictionary to construct a single two-dimensional object containing this information:"
   ]
  },
  {
   "cell_type": "code",
   "execution_count": 7,
   "metadata": {},
   "outputs": [
    {
     "data": {
      "text/html": [
       "<div>\n",
       "<style>\n",
       "    .dataframe thead tr:only-child th {\n",
       "        text-align: right;\n",
       "    }\n",
       "\n",
       "    .dataframe thead th {\n",
       "        text-align: left;\n",
       "    }\n",
       "\n",
       "    .dataframe tbody tr th {\n",
       "        vertical-align: top;\n",
       "    }\n",
       "</style>\n",
       "<table border=\"1\" class=\"dataframe\">\n",
       "  <thead>\n",
       "    <tr style=\"text-align: right;\">\n",
       "      <th></th>\n",
       "      <th>exports</th>\n",
       "      <th>population</th>\n",
       "    </tr>\n",
       "  </thead>\n",
       "  <tbody>\n",
       "    <tr>\n",
       "      <th>England</th>\n",
       "      <td>Pharmaceuticals</td>\n",
       "      <td>53000000</td>\n",
       "    </tr>\n",
       "    <tr>\n",
       "      <th>France</th>\n",
       "      <td>Aircraft</td>\n",
       "      <td>66900000</td>\n",
       "    </tr>\n",
       "    <tr>\n",
       "      <th>Germany</th>\n",
       "      <td>Cars</td>\n",
       "      <td>82670000</td>\n",
       "    </tr>\n",
       "    <tr>\n",
       "      <th>Italy</th>\n",
       "      <td>Refined Petroleum</td>\n",
       "      <td>60600000</td>\n",
       "    </tr>\n",
       "    <tr>\n",
       "      <th>Spain</th>\n",
       "      <td>Plastics</td>\n",
       "      <td>46560000</td>\n",
       "    </tr>\n",
       "  </tbody>\n",
       "</table>\n",
       "</div>"
      ],
      "text/plain": [
       "                   exports  population\n",
       "England    Pharmaceuticals    53000000\n",
       "France            Aircraft    66900000\n",
       "Germany               Cars    82670000\n",
       "Italy    Refined Petroleum    60600000\n",
       "Spain             Plastics    46560000"
      ]
     },
     "execution_count": 7,
     "metadata": {},
     "output_type": "execute_result"
    }
   ],
   "source": [
    "countries = pd.DataFrame({'population':population, 'exports':exports})\n",
    "countries"
   ]
  },
  {
   "cell_type": "markdown",
   "metadata": {},
   "source": [
    "Note the indexes have automatically aligned during the creation of the`DataFrame`. This is part of what makes Pandas data structures so efficient for data operations."
   ]
  },
  {
   "cell_type": "code",
   "execution_count": 8,
   "metadata": {
    "collapsed": true
   },
   "outputs": [],
   "source": [
    "# Simple DataFrame - dictionary of equal sized lists or numpy arrays\n",
    "\n",
    "data = {'Country': ['France', 'England', 'Italy', 'Germany', 'Spain'],\n",
    "       'Population': [66900000, 53000000, 60600000, 82670000, 46560000],\n",
    "       'Year': [2018, 2018, 2018, 2018, 2018]}\n",
    "\n",
    "df = pd.DataFrame(data)"
   ]
  },
  {
   "cell_type": "code",
   "execution_count": 9,
   "metadata": {},
   "outputs": [
    {
     "data": {
      "text/html": [
       "<div>\n",
       "<style>\n",
       "    .dataframe thead tr:only-child th {\n",
       "        text-align: right;\n",
       "    }\n",
       "\n",
       "    .dataframe thead th {\n",
       "        text-align: left;\n",
       "    }\n",
       "\n",
       "    .dataframe tbody tr th {\n",
       "        vertical-align: top;\n",
       "    }\n",
       "</style>\n",
       "<table border=\"1\" class=\"dataframe\">\n",
       "  <thead>\n",
       "    <tr style=\"text-align: right;\">\n",
       "      <th></th>\n",
       "      <th>Country</th>\n",
       "      <th>Population</th>\n",
       "      <th>Year</th>\n",
       "    </tr>\n",
       "  </thead>\n",
       "  <tbody>\n",
       "    <tr>\n",
       "      <th>0</th>\n",
       "      <td>France</td>\n",
       "      <td>66900000</td>\n",
       "      <td>2018</td>\n",
       "    </tr>\n",
       "    <tr>\n",
       "      <th>1</th>\n",
       "      <td>England</td>\n",
       "      <td>53000000</td>\n",
       "      <td>2018</td>\n",
       "    </tr>\n",
       "    <tr>\n",
       "      <th>2</th>\n",
       "      <td>Italy</td>\n",
       "      <td>60600000</td>\n",
       "      <td>2018</td>\n",
       "    </tr>\n",
       "    <tr>\n",
       "      <th>3</th>\n",
       "      <td>Germany</td>\n",
       "      <td>82670000</td>\n",
       "      <td>2018</td>\n",
       "    </tr>\n",
       "    <tr>\n",
       "      <th>4</th>\n",
       "      <td>Spain</td>\n",
       "      <td>46560000</td>\n",
       "      <td>2018</td>\n",
       "    </tr>\n",
       "  </tbody>\n",
       "</table>\n",
       "</div>"
      ],
      "text/plain": [
       "   Country  Population  Year\n",
       "0   France    66900000  2018\n",
       "1  England    53000000  2018\n",
       "2    Italy    60600000  2018\n",
       "3  Germany    82670000  2018\n",
       "4    Spain    46560000  2018"
      ]
     },
     "execution_count": 9,
     "metadata": {},
     "output_type": "execute_result"
    }
   ],
   "source": [
    "df"
   ]
  },
  {
   "cell_type": "markdown",
   "metadata": {},
   "source": [
    "By default the index is automatically assigned and the columns are sorted by index order"
   ]
  },
  {
   "cell_type": "code",
   "execution_count": 10,
   "metadata": {
    "scrolled": true
   },
   "outputs": [
    {
     "data": {
      "text/html": [
       "<div>\n",
       "<style>\n",
       "    .dataframe thead tr:only-child th {\n",
       "        text-align: right;\n",
       "    }\n",
       "\n",
       "    .dataframe thead th {\n",
       "        text-align: left;\n",
       "    }\n",
       "\n",
       "    .dataframe tbody tr th {\n",
       "        vertical-align: top;\n",
       "    }\n",
       "</style>\n",
       "<table border=\"1\" class=\"dataframe\">\n",
       "  <thead>\n",
       "    <tr style=\"text-align: right;\">\n",
       "      <th></th>\n",
       "      <th>Year</th>\n",
       "      <th>Population</th>\n",
       "      <th>World Cup Winner</th>\n",
       "    </tr>\n",
       "  </thead>\n",
       "  <tbody>\n",
       "    <tr>\n",
       "      <th>France</th>\n",
       "      <td>2018</td>\n",
       "      <td>66900000</td>\n",
       "      <td>NaN</td>\n",
       "    </tr>\n",
       "    <tr>\n",
       "      <th>England</th>\n",
       "      <td>2018</td>\n",
       "      <td>53000000</td>\n",
       "      <td>NaN</td>\n",
       "    </tr>\n",
       "    <tr>\n",
       "      <th>Italy</th>\n",
       "      <td>2018</td>\n",
       "      <td>60600000</td>\n",
       "      <td>NaN</td>\n",
       "    </tr>\n",
       "    <tr>\n",
       "      <th>Germany</th>\n",
       "      <td>2018</td>\n",
       "      <td>82670000</td>\n",
       "      <td>NaN</td>\n",
       "    </tr>\n",
       "    <tr>\n",
       "      <th>Spain</th>\n",
       "      <td>2018</td>\n",
       "      <td>46560000</td>\n",
       "      <td>NaN</td>\n",
       "    </tr>\n",
       "  </tbody>\n",
       "</table>\n",
       "</div>"
      ],
      "text/plain": [
       "         Year  Population World Cup Winner\n",
       "France   2018    66900000              NaN\n",
       "England  2018    53000000              NaN\n",
       "Italy    2018    60600000              NaN\n",
       "Germany  2018    82670000              NaN\n",
       "Spain    2018    46560000              NaN"
      ]
     },
     "execution_count": 10,
     "metadata": {},
     "output_type": "execute_result"
    }
   ],
   "source": [
    "# Alternatively we can be more verbose, specifying parameters to the DataFrame method\n",
    "\n",
    "df = pd.DataFrame(data, index = data['Country'], columns = ['Year', 'Population', 'World Cup Winner'] )\n",
    "df"
   ]
  },
  {
   "cell_type": "markdown",
   "metadata": {},
   "source": [
    "### Index Objects"
   ]
  },
  {
   "cell_type": "markdown",
   "metadata": {},
   "source": [
    "Pandas`Index`objects are responsible for holding the axis labels and other metadata (axis name/names). They are implemented using hash tables that allow for very fast selection and data alignment. \n",
    "\n",
    "-  Index objects are immutable and thus can't be modified by the user\n",
    "-  Any array or sequence that is referenced as an Index when constructing a Series/DataFrame is internally converted to an Index object\n",
    "- Similar to Python sets (intersection /union) but dissimilar in that they can contain duplicate labels\n"
   ]
  },
  {
   "cell_type": "code",
   "execution_count": 11,
   "metadata": {},
   "outputs": [
    {
     "ename": "TypeError",
     "evalue": "Index does not support mutable operations",
     "output_type": "error",
     "traceback": [
      "\u001b[0;31m---------------------------------------------------------------------------\u001b[0m",
      "\u001b[0;31mTypeError\u001b[0m                                 Traceback (most recent call last)",
      "\u001b[0;32m<ipython-input-11-1d918e75634b>\u001b[0m in \u001b[0;36m<module>\u001b[0;34m()\u001b[0m\n\u001b[1;32m      2\u001b[0m \u001b[0;31m# Immutable objects can't be changed after they have been created\u001b[0m\u001b[0;34m\u001b[0m\u001b[0;34m\u001b[0m\u001b[0m\n\u001b[1;32m      3\u001b[0m \u001b[0;34m\u001b[0m\u001b[0m\n\u001b[0;32m----> 4\u001b[0;31m \u001b[0mdf\u001b[0m\u001b[0;34m.\u001b[0m\u001b[0mindex\u001b[0m\u001b[0;34m[\u001b[0m\u001b[0;36m0\u001b[0m\u001b[0;34m]\u001b[0m \u001b[0;34m=\u001b[0m \u001b[0;34m'Portugal'\u001b[0m\u001b[0;34m\u001b[0m\u001b[0m\n\u001b[0m",
      "\u001b[0;32m~/anaconda3_501/lib/python3.6/site-packages/pandas/core/indexes/base.py\u001b[0m in \u001b[0;36m__setitem__\u001b[0;34m(self, key, value)\u001b[0m\n\u001b[1;32m   1668\u001b[0m \u001b[0;34m\u001b[0m\u001b[0m\n\u001b[1;32m   1669\u001b[0m     \u001b[0;32mdef\u001b[0m \u001b[0m__setitem__\u001b[0m\u001b[0;34m(\u001b[0m\u001b[0mself\u001b[0m\u001b[0;34m,\u001b[0m \u001b[0mkey\u001b[0m\u001b[0;34m,\u001b[0m \u001b[0mvalue\u001b[0m\u001b[0;34m)\u001b[0m\u001b[0;34m:\u001b[0m\u001b[0;34m\u001b[0m\u001b[0m\n\u001b[0;32m-> 1670\u001b[0;31m         \u001b[0;32mraise\u001b[0m \u001b[0mTypeError\u001b[0m\u001b[0;34m(\u001b[0m\u001b[0;34m\"Index does not support mutable operations\"\u001b[0m\u001b[0;34m)\u001b[0m\u001b[0;34m\u001b[0m\u001b[0m\n\u001b[0m\u001b[1;32m   1671\u001b[0m \u001b[0;34m\u001b[0m\u001b[0m\n\u001b[1;32m   1672\u001b[0m     \u001b[0;32mdef\u001b[0m \u001b[0m__getitem__\u001b[0m\u001b[0;34m(\u001b[0m\u001b[0mself\u001b[0m\u001b[0;34m,\u001b[0m \u001b[0mkey\u001b[0m\u001b[0;34m)\u001b[0m\u001b[0;34m:\u001b[0m\u001b[0;34m\u001b[0m\u001b[0m\n",
      "\u001b[0;31mTypeError\u001b[0m: Index does not support mutable operations"
     ]
    }
   ],
   "source": [
    "# Example of index immutability - any function that alters an index will return a new index. \n",
    "# Immutable objects can't be changed after they have been created\n",
    "\n",
    "df.index[0] = 'Portugal'"
   ]
  },
  {
   "cell_type": "markdown",
   "metadata": {},
   "source": [
    "This immutability makes it safer to share indices between multiple`DataFrames`and`Series`, without the potential for side effects from inadvertent index modification."
   ]
  },
  {
   "cell_type": "markdown",
   "metadata": {},
   "source": [
    "## The Anatomy of a DataFrame"
   ]
  },
  {
   "cell_type": "markdown",
   "metadata": {},
   "source": [
    "<img src=\"./Images/Anatomy_DataFrame.png\">"
   ]
  },
  {
   "cell_type": "code",
   "execution_count": 12,
   "metadata": {
    "collapsed": true
   },
   "outputs": [],
   "source": [
    "movies = pd.read_table('./Data/imdbratings.csv', delimiter=',')"
   ]
  },
  {
   "cell_type": "code",
   "execution_count": 13,
   "metadata": {},
   "outputs": [
    {
     "data": {
      "text/html": [
       "<div>\n",
       "<style>\n",
       "    .dataframe thead tr:only-child th {\n",
       "        text-align: right;\n",
       "    }\n",
       "\n",
       "    .dataframe thead th {\n",
       "        text-align: left;\n",
       "    }\n",
       "\n",
       "    .dataframe tbody tr th {\n",
       "        vertical-align: top;\n",
       "    }\n",
       "</style>\n",
       "<table border=\"1\" class=\"dataframe\">\n",
       "  <thead>\n",
       "    <tr style=\"text-align: right;\">\n",
       "      <th></th>\n",
       "      <th>star_rating</th>\n",
       "      <th>title</th>\n",
       "      <th>content_rating</th>\n",
       "      <th>genre</th>\n",
       "      <th>duration</th>\n",
       "      <th>actors_list</th>\n",
       "    </tr>\n",
       "  </thead>\n",
       "  <tbody>\n",
       "    <tr>\n",
       "      <th>0</th>\n",
       "      <td>9.3</td>\n",
       "      <td>The Shawshank Redemption</td>\n",
       "      <td>R</td>\n",
       "      <td>Crime</td>\n",
       "      <td>142</td>\n",
       "      <td>[u'Tim Robbins', u'Morgan Freeman', u'Bob Gunt...</td>\n",
       "    </tr>\n",
       "    <tr>\n",
       "      <th>1</th>\n",
       "      <td>9.2</td>\n",
       "      <td>The Godfather</td>\n",
       "      <td>R</td>\n",
       "      <td>Crime</td>\n",
       "      <td>175</td>\n",
       "      <td>[u'Marlon Brando', u'Al Pacino', u'James Caan']</td>\n",
       "    </tr>\n",
       "    <tr>\n",
       "      <th>2</th>\n",
       "      <td>9.1</td>\n",
       "      <td>The Godfather: Part II</td>\n",
       "      <td>R</td>\n",
       "      <td>Crime</td>\n",
       "      <td>200</td>\n",
       "      <td>[u'Al Pacino', u'Robert De Niro', u'Robert Duv...</td>\n",
       "    </tr>\n",
       "    <tr>\n",
       "      <th>3</th>\n",
       "      <td>9.0</td>\n",
       "      <td>The Dark Knight</td>\n",
       "      <td>PG-13</td>\n",
       "      <td>Action</td>\n",
       "      <td>152</td>\n",
       "      <td>[u'Christian Bale', u'Heath Ledger', u'Aaron E...</td>\n",
       "    </tr>\n",
       "    <tr>\n",
       "      <th>4</th>\n",
       "      <td>8.9</td>\n",
       "      <td>Pulp Fiction</td>\n",
       "      <td>R</td>\n",
       "      <td>Crime</td>\n",
       "      <td>154</td>\n",
       "      <td>[u'John Travolta', u'Uma Thurman', u'Samuel L....</td>\n",
       "    </tr>\n",
       "  </tbody>\n",
       "</table>\n",
       "</div>"
      ],
      "text/plain": [
       "   star_rating                     title content_rating   genre  duration  \\\n",
       "0          9.3  The Shawshank Redemption              R   Crime       142   \n",
       "1          9.2             The Godfather              R   Crime       175   \n",
       "2          9.1    The Godfather: Part II              R   Crime       200   \n",
       "3          9.0           The Dark Knight          PG-13  Action       152   \n",
       "4          8.9              Pulp Fiction              R   Crime       154   \n",
       "\n",
       "                                         actors_list  \n",
       "0  [u'Tim Robbins', u'Morgan Freeman', u'Bob Gunt...  \n",
       "1    [u'Marlon Brando', u'Al Pacino', u'James Caan']  \n",
       "2  [u'Al Pacino', u'Robert De Niro', u'Robert Duv...  \n",
       "3  [u'Christian Bale', u'Heath Ledger', u'Aaron E...  \n",
       "4  [u'John Travolta', u'Uma Thurman', u'Samuel L....  "
      ]
     },
     "execution_count": 13,
     "metadata": {},
     "output_type": "execute_result"
    }
   ],
   "source": [
    "movies.head()"
   ]
  },
  {
   "cell_type": "code",
   "execution_count": 14,
   "metadata": {},
   "outputs": [
    {
     "data": {
      "text/plain": [
       "star_rating       float64\n",
       "title              object\n",
       "content_rating     object\n",
       "genre              object\n",
       "duration            int64\n",
       "actors_list        object\n",
       "dtype: object"
      ]
     },
     "execution_count": 14,
     "metadata": {},
     "output_type": "execute_result"
    }
   ],
   "source": [
    "# dtypes attribute - displays each column and it's data type\n",
    "\n",
    "movies.dtypes"
   ]
  },
  {
   "cell_type": "markdown",
   "metadata": {},
   "source": [
    "### Accessing the main `DataFrame` components"
   ]
  },
  {
   "cell_type": "code",
   "execution_count": 15,
   "metadata": {
    "collapsed": true
   },
   "outputs": [],
   "source": [
    "columns = movies.columns\n",
    "index = movies.index\n",
    "data = movies.values"
   ]
  },
  {
   "cell_type": "code",
   "execution_count": 16,
   "metadata": {},
   "outputs": [
    {
     "data": {
      "text/plain": [
       "Index(['star_rating', 'title', 'content_rating', 'genre', 'duration',\n",
       "       'actors_list'],\n",
       "      dtype='object')"
      ]
     },
     "execution_count": 16,
     "metadata": {},
     "output_type": "execute_result"
    }
   ],
   "source": [
    "columns"
   ]
  },
  {
   "cell_type": "code",
   "execution_count": 17,
   "metadata": {},
   "outputs": [
    {
     "data": {
      "text/plain": [
       "RangeIndex(start=0, stop=979, step=1)"
      ]
     },
     "execution_count": 17,
     "metadata": {},
     "output_type": "execute_result"
    }
   ],
   "source": [
    "index"
   ]
  },
  {
   "cell_type": "code",
   "execution_count": 18,
   "metadata": {},
   "outputs": [
    {
     "data": {
      "text/plain": [
       "array([[9.3, 'The Shawshank Redemption', 'R', 'Crime', 142,\n",
       "        \"[u'Tim Robbins', u'Morgan Freeman', u'Bob Gunton']\"],\n",
       "       [9.2, 'The Godfather', 'R', 'Crime', 175,\n",
       "        \"[u'Marlon Brando', u'Al Pacino', u'James Caan']\"],\n",
       "       [9.1, 'The Godfather: Part II', 'R', 'Crime', 200,\n",
       "        \"[u'Al Pacino', u'Robert De Niro', u'Robert Duvall']\"],\n",
       "       ...,\n",
       "       [7.4, 'Master and Commander: The Far Side of the World', 'PG-13',\n",
       "        'Action', 138,\n",
       "        \"[u'Russell Crowe', u'Paul Bettany', u'Billy Boyd']\"],\n",
       "       [7.4, 'Poltergeist', 'PG', 'Horror', 114,\n",
       "        '[u\\'JoBeth Williams\\', u\"Heather O\\'Rourke\", u\\'Craig T. Nelson\\']'],\n",
       "       [7.4, 'Wall Street', 'R', 'Crime', 126,\n",
       "        \"[u'Charlie Sheen', u'Michael Douglas', u'Tamara Tunie']\"]],\n",
       "      dtype=object)"
      ]
     },
     "execution_count": 18,
     "metadata": {},
     "output_type": "execute_result"
    }
   ],
   "source": [
    "data"
   ]
  },
  {
   "cell_type": "markdown",
   "metadata": {},
   "source": [
    "## The Anatomy of a Series"
   ]
  },
  {
   "cell_type": "markdown",
   "metadata": {},
   "source": [
    "<img src=\"./Images/Anatomy_Series.png\">"
   ]
  },
  {
   "cell_type": "markdown",
   "metadata": {},
   "source": [
    "### Accessing the main `Series` components"
   ]
  },
  {
   "cell_type": "code",
   "execution_count": 20,
   "metadata": {},
   "outputs": [
    {
     "data": {
      "text/plain": [
       "0    The Shawshank Redemption\n",
       "1               The Godfather\n",
       "2      The Godfather: Part II\n",
       "3             The Dark Knight\n",
       "4                Pulp Fiction\n",
       "Name: title, dtype: object"
      ]
     },
     "execution_count": 20,
     "metadata": {},
     "output_type": "execute_result"
    }
   ],
   "source": [
    "# Select a single column of data as a Series - will go into more detail later\n",
    "\n",
    "film_name = movies['title']\n",
    "film_name.head()"
   ]
  },
  {
   "cell_type": "code",
   "execution_count": 21,
   "metadata": {},
   "outputs": [
    {
     "data": {
      "text/plain": [
       "pandas.core.series.Series"
      ]
     },
     "execution_count": 21,
     "metadata": {},
     "output_type": "execute_result"
    }
   ],
   "source": [
    "# Check that film_name is infact a Series\n",
    "\n",
    "type(film_name)"
   ]
  },
  {
   "cell_type": "code",
   "execution_count": 22,
   "metadata": {
    "collapsed": true
   },
   "outputs": [],
   "source": [
    "# There is no columns index, however the column name has been taken as the Series name attribute\n",
    "\n",
    "index = film_name.index\n",
    "data = film_name.values\n",
    "name = film_name.name"
   ]
  },
  {
   "cell_type": "code",
   "execution_count": 23,
   "metadata": {},
   "outputs": [
    {
     "data": {
      "text/plain": [
       "RangeIndex(start=0, stop=979, step=1)"
      ]
     },
     "execution_count": 23,
     "metadata": {},
     "output_type": "execute_result"
    }
   ],
   "source": [
    "index"
   ]
  },
  {
   "cell_type": "code",
   "execution_count": 24,
   "metadata": {
    "scrolled": true
   },
   "outputs": [
    {
     "data": {
      "text/plain": [
       "array(['The Shawshank Redemption', 'The Godfather',\n",
       "       'The Godfather: Part II', 'The Dark Knight', 'Pulp Fiction',\n",
       "       '12 Angry Men', 'The Good, the Bad and the Ugly',\n",
       "       'The Lord of the Rings: The Return of the King',\n",
       "       \"Schindler's List\", 'Fight Club',\n",
       "       'The Lord of the Rings: The Fellowship of the Ring', 'Inception',\n",
       "       'Star Wars: Episode V - The Empire Strikes Back', 'Forrest Gump',\n",
       "       'The Lord of the Rings: The Two Towers', 'Interstellar',\n",
       "       \"One Flew Over the Cuckoo's Nest\", 'Seven Samurai', 'Goodfellas',\n",
       "       'Star Wars', 'The Matrix', 'City of God', \"It's a Wonderful Life\",\n",
       "       'The Usual Suspects', 'Se7en', 'Life Is Beautiful',\n",
       "       'Once Upon a Time in the West', 'The Silence of the Lambs',\n",
       "       'Leon: The Professional', 'City Lights', 'Spirited Away',\n",
       "       'The Intouchables', 'Casablanca', 'Whiplash', 'American History X',\n",
       "       'Modern Times', 'Saving Private Ryan', 'Raiders of the Lost Ark',\n",
       "       'Rear Window', 'Psycho', 'The Green Mile', 'Sunset Blvd.',\n",
       "       'The Pianist', 'The Dark Knight Rises', 'Gladiator',\n",
       "       'Terminator 2: Judgment Day', 'Memento', 'Taare Zameen Par',\n",
       "       'Dr. Strangelove or: How I Learned to Stop Worrying and Love the Bomb',\n",
       "       'The Departed', 'Cinema Paradiso', 'Apocalypse Now',\n",
       "       'The Great Dictator', 'The Prestige', 'Back to the Future',\n",
       "       'The Lion King', 'The Lives of Others', 'Alien', 'Paths of Glory',\n",
       "       'Django Unchained', '3 Idiots', 'Grave of the Fireflies',\n",
       "       'The Shining', 'M', 'WALL-E', 'Witness for the Prosecution',\n",
       "       'Munna Bhai M.B.B.S.', 'American Beauty', 'Das Boot',\n",
       "       'Princess Mononoke', 'Amelie', 'North by Northwest',\n",
       "       'Rang De Basanti', 'Jodaeiye Nader az Simin', 'Citizen Kane',\n",
       "       'Aliens', 'Vertigo', 'Oldeuboi', 'Once Upon a Time in America',\n",
       "       'Double Indemnity', 'Star Wars: Episode VI - Return of the Jedi',\n",
       "       'Toy Story 3', 'Braveheart', 'To Kill a Mockingbird',\n",
       "       'Requiem for a Dream', 'Lawrence of Arabia', 'A Clockwork Orange',\n",
       "       'Bicycle Thieves', 'The Kid', 'Swades', 'Reservoir Dogs',\n",
       "       'Eternal Sunshine of the Spotless Mind', 'Taxi Driver',\n",
       "       'Dilwale Dulhania Le Jayenge', \"Singin' in the Rain\",\n",
       "       'All About Eve', 'Yojimbo', 'The Sting', 'Rashomon', 'Amadeus',\n",
       "       'The Treasure of the Sierra Madre',\n",
       "       'Monty Python and the Holy Grail', 'Full Metal Jacket',\n",
       "       'The Apartment', 'Ikiru', 'The Third Man', 'Snatch.',\n",
       "       'For a Few Dollars More', 'Metropolis', 'Dil Chahta Hai',\n",
       "       '2001: A Space Odyssey', 'Some Like It Hot', 'L.A. Confidential',\n",
       "       'Batman Begins', 'Inglourious Basterds', 'Scarface',\n",
       "       'Mr. Smith Goes to Washington', 'Toy Story',\n",
       "       'Indiana Jones and the Last Crusade', 'Unforgiven',\n",
       "       'The Great Escape', 'Jagten', 'On the Waterfront', 'The General',\n",
       "       'Raging Bull', 'Downfall', 'Up', 'Wild Strawberries',\n",
       "       'The Gold Rush', 'Ran', 'Chinatown', 'My Neighbor Totoro',\n",
       "       'Judgment at Nuremberg', 'Barfi!', 'The Seventh Seal', 'Heat',\n",
       "       \"Pan's Labyrinth\", 'The Bridge on the River Kwai', 'Die Hard',\n",
       "       'Good Will Hunting', 'The Wages of Fear',\n",
       "       'The Secret in Their Eyes', 'Lagaan: Once Upon a Time in India',\n",
       "       'The Wolf of Wall Street', 'It Happened One Night', 'Blade Runner',\n",
       "       'Warrior', \"Howl's Moving Castle\", 'The Elephant Man', 'Rebecca',\n",
       "       'Incendies', 'Lock, Stock and Two Smoking Barrels',\n",
       "       'V for Vendetta', 'The Big Lebowski', 'Cool Hand Luke',\n",
       "       'Relatos salvajes', 'Casino', 'Gone with the Wind', 'Gone Girl',\n",
       "       'The Best Years of Our Lives', 'How to Train Your Dragon',\n",
       "       'Diabolique', 'Gran Torino', 'Rush', 'Into the Wild',\n",
       "       'My Sassy Girl', 'The Deer Hunter', 'Mary and Max',\n",
       "       \"Hachi: A Dog's Tale\", 'The Maltese Falcon', 'A Beautiful Mind',\n",
       "       'Dial M for Murder', 'Trainspotting',\n",
       "       'Tae Guk Gi: The Brotherhood of War', 'Persona', 'Touch of Evil',\n",
       "       'Fargo', 'The Avengers', 'The 400 Blows', 'The Princess Bride',\n",
       "       'Hotel Rwanda', 'Stalker', 'The Battle of Algiers', 'Underground',\n",
       "       'Fanny and Alexander', 'Network', 'The Thing',\n",
       "       'Butch Cassidy and the Sundance Kid', 'The Grapes of Wrath',\n",
       "       'Black Cat, White Cat', 'Life of Brian', 'The Sixth Sense',\n",
       "       'Finding Nemo', 'Nausicaa of the Valley of the Wind',\n",
       "       'Kingsman: The Secret Service', 'Platoon',\n",
       "       'Guardians of the Galaxy', 'In the Name of the Father',\n",
       "       'Kill Bill: Vol. 1', 'No Country for Old Men', 'Le Samourai',\n",
       "       '12 Years a Slave', \"La leggenda del pianista sull'oceano\",\n",
       "       '8 1/2', 'Ben-Hur', 'Amores Perros', 'Stand by Me',\n",
       "       'What Ever Happened to Baby Jane?', 'Annie Hall',\n",
       "       'The Imitation Game', 'Laura', 'Departures', 'Infernal Affairs',\n",
       "       'There Will Be Blood', 'The Grand Budapest Hotel', 'La Strada',\n",
       "       'Sin City', 'Memories of Murder', 'Donnie Darko',\n",
       "       \"Who's Afraid of Virginia Woolf?\", 'Gandhi', 'Solaris',\n",
       "       'Harry Potter and the Deathly Hallows: Part 2', 'Paris, Texas',\n",
       "       'The Wizard of Oz', '3-Iron', 'Boyhood', 'Million Dollar Baby',\n",
       "       'The Last Picture Show', 'Strangers on a Train',\n",
       "       'Cat on a Hot Tin Roof', 'La Dolce Vita', 'Chungking Express',\n",
       "       'The Night of the Hunter', 'La Haine', 'Yip Man', 'High Noon',\n",
       "       'Notorious', 'Before Sunrise', 'Elite Squad: The Enemy Within',\n",
       "       'The Bourne Ultimatum', 'Castle in the Sky', 'The Celebration',\n",
       "       'Spring, Summer, Fall, Winter... and Spring', 'Shutter Island',\n",
       "       'Barry Lyndon', 'Stalag 17', 'Three Colors: Red',\n",
       "       'X-Men: Days of Future Past', 'Sleuth', 'In the Mood for Love',\n",
       "       'The Man Who Shot Liberty Valance', 'Arsenic and Old Lace',\n",
       "       'The Big Sleep', 'Roman Holiday', 'The Philadelphia Story',\n",
       "       'Akira', 'Anatomy of a Murder', 'The Cabinet of Dr. Caligari',\n",
       "       'The Help', 'The Sea Inside', 'Elite Squad', 'The Hustler',\n",
       "       'Rio Bravo', 'Twelve Monkeys', 'Harvey', 'A Christmas Story',\n",
       "       'Jaws', 'The Raid 2', 'Rocky', 'Wings of Desire',\n",
       "       'Pirates of the Caribbean: The Curse of the Black Pearl',\n",
       "       'The Killing', 'Papillon', \"The King's Speech\", 'Groundhog Day',\n",
       "       'A Fistful of Dollars', 'Monsters, Inc.', 'Dog Day Afternoon',\n",
       "       'The Perks of Being a Wallflower', 'Young Frankenstein',\n",
       "       'The Terminator', 'Harold and Maude', 'Before Sunset',\n",
       "       'A Streetcar Named Desire', 'Bringing Up Baby',\n",
       "       'The Diving Bell and the Butterfly', 'His Girl Friday',\n",
       "       'Sling Blade', 'All Quiet on the Western Front', 'Prisoners',\n",
       "       'The Return', 'The Manchurian Candidate', 'Duck Soup',\n",
       "       'Beauty and the Beast', 'The Truman Show', 'The Wild Bunch',\n",
       "       'Rope', 'The Graduate', 'Jurassic Park', 'Dogville', 'Furious 7',\n",
       "       'Patton', 'The Nightmare Before Christmas', 'Being There',\n",
       "       'Persepolis', 'This Is Spinal Tap', 'East of Eden',\n",
       "       'Pink Floyd The Wall', 'Blood Diamond', 'Big Fish',\n",
       "       'Slumdog Millionaire', 'Star Trek', 'The Straight Story',\n",
       "       'Crimes and Misdemeanors', 'Charade', 'JFK', 'Dawn of the Dead',\n",
       "       'Magnolia', 'Manhattan', 'Central Station', 'Brazil',\n",
       "       'The Exorcist', 'Her', 'Dancer in the Dark', 'Rain Man',\n",
       "       'Talk to Her', 'The Adventures of Robin Hood',\n",
       "       'Aguirre, the Wrath of God', 'In the Heat of the Night',\n",
       "       'Nosferatu', 'Black Swan', 'Ratatouille', 'The Searchers',\n",
       "       'Short Term 12', 'Doctor Zhivago', 'Life of Pi',\n",
       "       \"All the President's Men\", 'Battleship Potemkin',\n",
       "       'Dances with Wolves', 'Catch Me If You Can', 'Cinderella Man',\n",
       "       'Dead Poets Society', 'Ghost in the Shell', 'Head-On',\n",
       "       \"No Man's Land\", 'Dallas Buyers Club', 'Days of Heaven',\n",
       "       'The Sound of Music', 'District 9', 'Shadow of a Doubt',\n",
       "       'Frankenstein', 'Shaun of the Dead', 'Night of the Living Dead',\n",
       "       'Kill Bill: Vol. 2', 'Secrets & Lies', 'The Artist', 'Aladdin',\n",
       "       'The Lady Vanishes', 'The Hobbit: The Desolation of Smaug',\n",
       "       'Let the Right One In', 'Fiddler on the Roof',\n",
       "       'The Hobbit: An Unexpected Journey', 'Three Colors: Blue',\n",
       "       \"Rosemary's Baby\", 'Mystic River', 'Serenity', 'Amarcord',\n",
       "       'Planet of the Apes', 'True Romance', 'Hannah and Her Sisters',\n",
       "       'Moon', 'Before Midnight', 'My Name Is Khan', 'Scent of a Woman',\n",
       "       'Mulholland Dr.', 'King Kong', 'The Fault in Our Stars',\n",
       "       'The Incredibles', 'Edward Scissorhands', 'Casino Royale',\n",
       "       'How to Train Your Dragon 2', 'In Bruges', 'The Untouchables',\n",
       "       'Breathless', 'Spartacus', 'The Iron Giant', 'Midnight Cowboy',\n",
       "       'The Blues Brothers', 'Freaks', 'Letters from Iwo Jima',\n",
       "       'Edge of Tomorrow', 'Glory', 'The African Queen',\n",
       "       'Birdman: Or (The Unexpected Virtue of Ignorance)', 'Big Hero 6',\n",
       "       'Almost Famous', 'The Notebook', 'The Conversation',\n",
       "       'The Breakfast Club', 'The Pursuit of Happyness', 'The Killer',\n",
       "       'Once', 'Ying xiong', 'The Remains of the Day',\n",
       "       'The Bride of Frankenstein', 'The Wrestler', 'Nightcrawler',\n",
       "       'Gravity', 'Hard Boiled', 'Bonnie and Clyde',\n",
       "       'The Bourne Identity', 'Key Largo', 'Nine Queens', 'Toy Story 2',\n",
       "       'The Killing Fields', 'All About My Mother',\n",
       "       'Cowboy Bebop: The Movie', 'Ed Wood', 'Stagecoach',\n",
       "       'The Man Who Would Be King', 'The Outlaw Josey Wales',\n",
       "       'Children of Men', 'The Insider', 'The Right Stuff', 'Badlands',\n",
       "       'A Prophet', '4 Months, 3 Weeks and 2 Days', 'Le passe',\n",
       "       'The Fall', 'Breaking the Waves', 'Mr. Nobody', 'Crash', 'Avatar',\n",
       "       'Iron Man', 'Do the Right Thing', \"Carlito's Way\",\n",
       "       'Crouching Tiger, Hidden Dragon', 'Lilya 4-Ever', 'The Chorus',\n",
       "       'The Boondock Saints', \"Miller's Crossing\", 'Walk the Line',\n",
       "       'Shrek', 'My Fair Lady', 'The Ten Commandments', 'The Fighter',\n",
       "       'Captain Phillips', 'Cabaret', 'Halloween', 'My Left Foot',\n",
       "       'Miracle on 34th Street', 'The Man from Nowhere',\n",
       "       'Toki o kakeru shojo', 'Little Miss Sunshine', 'Taken',\n",
       "       'Blue Is the Warmest Color', 'Boogie Nights', 'Hot Fuzz',\n",
       "       \"Ferris Bueller's Day Off\", \"The World's Fastest Indian\",\n",
       "       \"Kiki's Delivery Service\", 'Down by Law', 'Glengarry Glen Ross',\n",
       "       'Clerks', \"Adam's Apples\", 'The Girl with the Dragon Tattoo',\n",
       "       'The 39 Steps', 'E.T. the Extra-Terrestrial', 'Tombstone',\n",
       "       'Predator', 'Tangled', \"Guess Who's Coming to Dinner\",\n",
       "       'Ordinary People', 'The Best Offer', 'Silver Linings Playbook',\n",
       "       'Hamlet', 'Amour', 'I Saw the Devil', 'The Motorcycle Diaries',\n",
       "       'Office Space', 'Evil', 'The Girl with the Dragon Tattoo',\n",
       "       'Withnail & I', 'The Day the Earth Stood Still', 'Black Book',\n",
       "       'Evil Dead II', 'Kaze tachinu', 'Star Trek Into Darkness',\n",
       "       'The Triplets of Belleville', 'Open Your Eyes',\n",
       "       'The Magnificent Seven', 'Drive', 'Mississippi Burning',\n",
       "       'The Lego Movie', 'The Day of the Jackal', 'Misery',\n",
       "       'Willy Wonka & the Chocolate Factory', 'Fantasia', 'Gattaca',\n",
       "       'American Gangster', 'Porco Rosso', 'The French Connection',\n",
       "       'The Boy in the Striped Pajamas', 'Empire of the Sun',\n",
       "       'About Time', 'Blue Velvet', 'In America',\n",
       "       'The Curious Case of Benjamin Button', 'The Last of the Mohicans',\n",
       "       'Moonrise Kingdom', 'Rebel Without a Cause', 'Fantastic Mr. Fox',\n",
       "       'Invasion of the Body Snatchers', 'October Sky', 'Dirty Harry',\n",
       "       'Ghostbusters', 'Captain America: The Winter Soldier',\n",
       "       'Wreck-It Ralph', 'The Hangover', 'Back to the Future Part II',\n",
       "       'Belle de Jour', 'O Brother, Where Art Thou?', 'Repulsion',\n",
       "       'Airplane!', 'Pride & Prejudice', 'Zulu', 'Night on Earth',\n",
       "       'From Here to Eternity', 'Apocalypto', 'Atonement',\n",
       "       'The Dirty Dozen', 'X-Men: First Class', 'Run Lola Run',\n",
       "       'The Longest Day', 'Zelig', 'The Last Emperor', 'The Goonies',\n",
       "       'The White Ribbon', 'The Fugitive', 'The Color Purple',\n",
       "       'South Park: Bigger Longer & Uncut', '(500) Days of Summer',\n",
       "       'Lost in Translation', 'Argo', 'Blazing Saddles',\n",
       "       \"Breakfast at Tiffany's\", 'Finding Neverland', 'The Experiment',\n",
       "       'Lucky Number Slevin', 'The Theory of Everything',\n",
       "       'Harry Potter and the Prisoner of Azkaban', 'Kung Fu Hustle',\n",
       "       'Being John Malkovich', 'The Social Network', '3:10 to Yuma',\n",
       "       'The Name of the Rose', 'Mary Poppins', 'The Game', 'Changeling',\n",
       "       'Donnie Brasco', 'Serpico', \"What's Eating Gilbert Grape\",\n",
       "       'Goldfinger', 'Nebraska', 'The Sandlot', 'Boyz n the Hood',\n",
       "       'The Bourne Supremacy', 'Skyfall', 'Ray', '300', 'A Bronx Tale',\n",
       "       'The Birds', 'Battle Royale', 'Control', 'Kramer vs. Kramer',\n",
       "       'Deliverance', \"Ocean's Eleven\", 'As Good as It Gets',\n",
       "       'Awakenings', 'The King of Comedy', 'Man on Fire', 'Sabrina',\n",
       "       'Dark City', 'Good Bye Lenin!', 'Remember the Titans',\n",
       "       'Star Trek II: The Wrath of Khan', 'Road to Perdition', 'Rushmore',\n",
       "       'The Machinist', 'Flipped', 'The Count of Monte Cristo',\n",
       "       'Detachment', 'Love Me If You Dare', 'Dead Man',\n",
       "       'The Purple Rose of Cairo', '21 Grams', '50/50', 'Kick-Ass',\n",
       "       'Delicatessen', 'Barton Fink', 'The Last King of Scotland',\n",
       "       'Adaptation.', 'A Very Long Engagement', 'Mysterious Skin',\n",
       "       'Stardust', 'Black Hawk Down', 'Paprika',\n",
       "       'Fear and Loathing in Las Vegas', 'Frost/Nixon',\n",
       "       'Enter the Dragon', 'Short Cuts', \"A Hard Day's Night\",\n",
       "       'The Last Samurai', 'The Station Agent', 'Zombieland',\n",
       "       'Sympathy for Mr. Vengeance', 'Despicable Me', 'Shane',\n",
       "       'Forbidden Planet', 'Titanic', 'Gone Baby Gone', 'The Dinner Game',\n",
       "       'Dawn of the Planet of the Apes', '25th Hour', 'Ponyo', 'Shine',\n",
       "       'The Blind Side', 'Brokeback Mountain', 'Cast Away', 'Malcolm X',\n",
       "       'Show Me Love', 'Boy A', 'The Warriors',\n",
       "       'Close Encounters of the Third Kind', 'Match Point',\n",
       "       'Training Day', 'The Butterfly Effect',\n",
       "       'The City of Lost Children', 'Billy Elliot', 'Love Actually',\n",
       "       'The Producers', 'Harry Potter and the Deathly Hallows: Part 1',\n",
       "       'The Visitor', 'Philadelphia', 'Sense and Sensibility',\n",
       "       'Three Colors: White', 'La grande bellezza', 'Primal Fear',\n",
       "       'Where Eagles Dare', 'Dazed and Confused', 'Blood Simple.',\n",
       "       'This Is England', 'Fearless', 'Dangerous Liaisons', 'Saw',\n",
       "       'Snow White and the Seven Dwarfs', 'Coraline',\n",
       "       'The Hunger Games: Catching Fire', \"Sophie's Choice\",\n",
       "       'La Vie en Rose', 'Star Wars: Episode III - Revenge of the Sith',\n",
       "       'True Grit', 'After Hours', 'Frozen', 'Lolita', 'Eastern Promises',\n",
       "       'Midnight in Paris', 'The Muppet Christmas Carol',\n",
       "       'Who Framed Roger Rabbit', 'Sympathy for Lady Vengeance',\n",
       "       'Grindhouse', 'In a Better World', 'Blow-Up',\n",
       "       'The Secret World of Arrietty', 'Kiss Kiss Bang Bang',\n",
       "       'Lost Highway', 'Zodiac', 'Les Miserables', 'Moulin Rouge!',\n",
       "       'Whale Rider', 'End of Watch', 'Philomena', 'Fury', 'The Big Blue',\n",
       "       'First Blood', 'Minority Report', 'Spellbound', 'The Wicker Man',\n",
       "       'Seven Pounds', 'Midnight Express', \"Kelly's Heroes\", 'MASH',\n",
       "       'The Player', 'Traffic', 'Y Tu Mama Tambien',\n",
       "       'Stranger Than Fiction', 'Inside Man', '127 Hours',\n",
       "       'The Fifth Element', 'Milk', 'United 93', 'Jin ling shi san chai',\n",
       "       'Dracula', 'High Plains Drifter', 'I Am Sam',\n",
       "       'Fried Green Tomatoes', 'Watchmen', '28 Days Later...',\n",
       "       'The Illusionist', 'Superbad', 'The Godfather: Part III',\n",
       "       'The Royal Tenenbaums', 'The Jungle Book', 'Thank You for Smoking',\n",
       "       'Man Bites Dog', 'A Few Good Men', 'The Legend of Drunken Master',\n",
       "       'The Kite Runner', 'When Harry Met Sally...', 'Munich',\n",
       "       'House of Sand and Fog', 'Lethal Weapon', 'Animal House',\n",
       "       'Lord of War', 'Blow', 'Sherlock Holmes',\n",
       "       'Harry Potter and the Goblet of Fire', 'La piel que habito',\n",
       "       'The Crow', 'West Side Story', 'The Thin Red Line',\n",
       "       'American Psycho', 'The Blind Swordsman: Zatoichi',\n",
       "       'The Last Temptation of Christ',\n",
       "       'The Naked Gun: From the Files of Police Squad!', 'The Others',\n",
       "       'The Party', 'Army of Darkness', 'The Hurt Locker',\n",
       "       'The Raid: Redemption', 'Volver', 'Following', 'Kung Fu Panda',\n",
       "       'Mad Max 2: The Road Warrior', 'Jusan-nin no shikaku',\n",
       "       \"The Man Who Wasn't There\", 'The Counterfeiters',\n",
       "       'The Hunt for Red October', 'Lone Survivor', 'A Fish Called Wanda',\n",
       "       'The Impossible', 'Garden State', 'Escape from Alcatraz',\n",
       "       'Apollo 13', 'Lust, Caution', 'Selma', 'Funny Games', 'The Abyss',\n",
       "       'Robin Hood', 'Enemy at the Gates', 'Falling Down',\n",
       "       'Little Children', 'Hunger',\n",
       "       'Indiana Jones and the Temple of Doom', 'Ip Man 2',\n",
       "       'The Little Mermaid', \"It's a Mad, Mad, Mad, Mad World\",\n",
       "       'The Reader', 'The Omen', 'A Royal Affair', 'Braindead',\n",
       "       'Secondhand Lions', 'Disconnect', 'A Single Man', 'Hoosiers',\n",
       "       'Moneyball', 'The Book Thief', 'Die Hard: With a Vengeance',\n",
       "       'Interview with the Vampire: The Vampire Chronicles',\n",
       "       'Midnight Run', 'An American Werewolf in London',\n",
       "       'The Great Debaters', 'Tucker and Dale vs. Evil',\n",
       "       'Dead Man Walking', 'The Piano', 'The Town',\n",
       "       'Rise of the Planet of the Apes', \"Boys Don't Cry\", 'Ice Age',\n",
       "       'Of Mice and Men', 'Sideways', 'High Fidelity',\n",
       "       'The Meaning of Life', 'Hugo', 'Leaving Las Vegas',\n",
       "       'The Evil Dead', 'Collateral', 'Planes, Trains & Automobiles',\n",
       "       'Hodejegerne', 'Field of Dreams', 'Batman', 'Tell No One',\n",
       "       'Ghost Dog: The Way of the Samurai', 'Chaplin', 'Keith', 'Juno',\n",
       "       'The Assassination of Jesse James by the Coward Robert Ford',\n",
       "       'The Fisher King', 'House of Flying Daggers', 'The Hours',\n",
       "       'The Damned United', 'Star Trek: First Contact', 'The Natural',\n",
       "       'The Hobbit: The Battle of the Five Armies', 'Equilibrium',\n",
       "       'August Rush', 'Saving Mr. Banks', 'The Hurricane',\n",
       "       \"Jacob's Ladder\", 'The Curse of the Were-Rabbit',\n",
       "       'Christmas Vacation', 'Good Night, and Good Luck.', 'Straw Dogs',\n",
       "       '42', 'Rudy', 'Sleepers', 'The Wind That Shakes the Barley',\n",
       "       'Gangs of New York', 'Elizabeth', 'Green Street Hooligans',\n",
       "       'Reign Over Me', 'RoboCop', 'The Life of David Gale',\n",
       "       'Life as a House', 'Despicable Me 2', 'Jackie Brown',\n",
       "       'Menace II Society', 'The Class', 'Bullets Over Broadway',\n",
       "       'American Splendor', 'Perfume: The Story of a Murderer',\n",
       "       'Cloud Atlas', 'Marathon Man', 'Pinocchio', 'The Painted Veil',\n",
       "       'A Simple Plan', 'The Conjuring', 'The Man Who Knew Too Much',\n",
       "       'Quiz Show', 'American Graffiti', 'The Bridges of Madison County',\n",
       "       'Gallipoli', \"L'illusionniste\", 'Miracle', 'Maria Full of Grace',\n",
       "       'Scott Pilgrim vs. the World', 'Pleasantville',\n",
       "       'Sherlock Holmes: A Game of Shadows', 'Doubt', 'The Fly',\n",
       "       'The Orphanage', 'Malena', 'Three Days of the Condor', '[Rec]',\n",
       "       'A Perfect World', 'To Catch a Thief', 'Best in Show',\n",
       "       'Everything Is Illuminated', 'A Nightmare on Elm Street',\n",
       "       'The Ice Storm', 'X2', 'We Need to Talk About Kevin', 'Felon',\n",
       "       'Still Alice', 'Rust and Bone', 'Freedom Writers',\n",
       "       'Legends of the Fall', \"Buffalo '66\", 'The Constant Gardener',\n",
       "       'My Cousin Vinny', 'The Texas Chain Saw Massacre', 'Mulan',\n",
       "       'A History of Violence', 'Open Range', 'Total Recall', 'Pi',\n",
       "       \"The Devil's Backbone\", 'The Aviator', \"Devil's Advocate\",\n",
       "       'The Adventures of Priscilla, Queen of the Desert',\n",
       "       'Harry Potter and the Half-Blood Prince', 'Fruitvale Station',\n",
       "       'In the Bedroom', 'Source Code', 'Biutiful',\n",
       "       'From Russia with Love', 'Calvary', 'The Mission', 'In the Loop',\n",
       "       'The Three Burials of Melquiades Estrada', 'Babel', 'Frenzy',\n",
       "       'Heavenly Creatures',\n",
       "       'Sweeney Todd: The Demon Barber of Fleet Street', 'Dracula',\n",
       "       'Looper', 'The Proposition', 'Bullitt',\n",
       "       \"Harry Potter and the Sorcerer's Stone\", '2046', 'Transamerica',\n",
       "       'Smoke', 'Suspiria', 'The Judge', 'Bad Education', 'Up in the Air',\n",
       "       'Begin Again', 'Running Scared', 'Ghost World', 'Witness',\n",
       "       'Trading Places', 'Mud', 'Across the Universe', 'Les Miserables',\n",
       "       'Notes on a Scandal', 'Inside Llewyn Davis', 'Brick', 'Clerks II',\n",
       "       'Say Anything...', 'Man on the Moon', 'Mean Streets',\n",
       "       'Harry Potter and the Order of the Phoenix', 'Beetlejuice',\n",
       "       'Crazy, Stupid, Love.', 'Excalibur', 'True Grit', 'Labyrinth',\n",
       "       'Alice in Wonderland', 'Predestination', 'Much Ado About Nothing',\n",
       "       'A Bridge Too Far', 'Raising Arizona', 'The Bucket List',\n",
       "       'Terms of Endearment', 'Take Shelter', 'Far from Heaven',\n",
       "       'Eraserhead', 'Frances Ha', 'Home Alone', 'Bound', 'Sleepy Hollow',\n",
       "       'Pirate Radio', 'The NeverEnding Story', 'X-Men',\n",
       "       'Zero Dark Thirty', 'Manhattan Murder Mystery',\n",
       "       \"National Lampoon's Vacation\", \"My Sister's Keeper\",\n",
       "       'Deconstructing Harry', 'The Way Way Back', 'Capote',\n",
       "       'Driving Miss Daisy', 'La Femme Nikita', 'Lincoln', 'Limitless',\n",
       "       'The Simpsons Movie', 'The Rock', 'The English Patient',\n",
       "       'Law Abiding Citizen', 'Wonder Boys', 'Death at a Funeral',\n",
       "       'Blue Valentine', 'The Cider House Rules', 'Tootsie',\n",
       "       'Back to the Future Part III',\n",
       "       'Master and Commander: The Far Side of the World', 'Poltergeist',\n",
       "       'Wall Street'], dtype=object)"
      ]
     },
     "execution_count": 24,
     "metadata": {},
     "output_type": "execute_result"
    }
   ],
   "source": [
    "data"
   ]
  },
  {
   "cell_type": "code",
   "execution_count": 25,
   "metadata": {},
   "outputs": [
    {
     "data": {
      "text/plain": [
       "'title'"
      ]
     },
     "execution_count": 25,
     "metadata": {},
     "output_type": "execute_result"
    }
   ],
   "source": [
    "# Same as the original DataFrame column name\n",
    "\n",
    "name"
   ]
  },
  {
   "cell_type": "markdown",
   "metadata": {},
   "source": [
    "# Recap\n",
    "***\n",
    "\n",
    "1. Pandas has distinct data types that that determine how data is stored and how it can be manipulated. Often, unexpected results are the result of incorrect data types.  \n",
    "\n",
    "\n",
    "2. Large `DataFrame`? Quick fix is to set the data types of columns on import - this can reduce the strain on memory.  \n",
    "\n",
    "\n",
    "3. **`Series`** - 1 dimensional array of __indexed__ data. This can be any data type but all values will be stored as the same type.  \n",
    "\n",
    "\n",
    "4. **`DataFrame`** - Multi dimensional array of __indexed__ data. Can be thought of as an ordered collection of columns. Columns can have different data types to one another.  \n",
    "\n",
    "\n",
    "5. The index is what differentiates a `Series` from a normal array and the reason why Pandas data structures are so efficient for data operations.  \n",
    "\n",
    "\n",
    "6. Attributes of `Series`/`DataFrames` contain information regarding key features of the underlying data."
   ]
  },
  {
   "cell_type": "markdown",
   "metadata": {},
   "source": [
    "<!--NAVIGATION-->\n",
    "< [Fundamentals](01_Python_Fundamentals.ipynb) | [Contents](Index.ipynb) | [Pandas IO](03_Pandas_Data_IO.ipynb) >"
   ]
  }
 ],
 "metadata": {
  "kernelspec": {
   "display_name": "Python 3",
   "language": "python",
   "name": "python3"
  },
  "language_info": {
   "codemirror_mode": {
    "name": "ipython",
    "version": 3
   },
   "file_extension": ".py",
   "mimetype": "text/x-python",
   "name": "python",
   "nbconvert_exporter": "python",
   "pygments_lexer": "ipython3",
   "version": "3.6.1"
  }
 },
 "nbformat": 4,
 "nbformat_minor": 2
}
