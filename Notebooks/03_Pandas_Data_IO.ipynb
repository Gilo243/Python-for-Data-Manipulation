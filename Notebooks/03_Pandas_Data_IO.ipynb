{
 "cells": [
  {
   "cell_type": "markdown",
   "metadata": {
    "collapsed": true
   },
   "source": [
    "# Data I/O"
   ]
  },
  {
   "cell_type": "markdown",
   "metadata": {},
   "source": [
    "___Resources___\n",
    "\n",
    "https://bit.ly/2usZTCz - pandas documentation - IO Tools\n",
    "\n",
    "https://bit.ly/2zuzt95 - Medium article - DataFrame IO Performance with Pandas, dask, fastparquet and HDF5"
   ]
  },
  {
   "cell_type": "code",
   "execution_count": 1,
   "metadata": {},
   "outputs": [],
   "source": [
    "## Base imports\n",
    "\n",
    "import pandas as pd\n",
    "import numpy as np\n",
    "pd.set_option('max_columns', 50)"
   ]
  },
  {
   "cell_type": "markdown",
   "metadata": {},
   "source": [
    "## Reading Tabular Data into Pandas\n",
    "\n",
    "Pandas features a host of ready made functions for reading in tabular data as a `DataFrame` object.\n",
    "\n",
    "In reality the ones that are most often used are **[`read_csv`](https://pandas.pydata.org/pandas-docs/stable/generated/pandas.read_csv.html)** and **[`read_table`](https://pandas.pydata.org/pandas-docs/stable/generated/pandas.read_table.html)**, however some of the newer data storage methods are faster and consume less memory.\n",
    "\n",
    "The below table contains a _selection_ of parsing functions available in pandas."
   ]
  },
  {
   "cell_type": "markdown",
   "metadata": {},
   "source": [
    "|Format Type | Data Description | Reader | Writer|\n",
    "| --- | --- | --- | --- | --- |\n",
    "|text |Read data from a delimited data from a file or URL, comma as default delimiter|read_csv|\tto_csv|\n",
    "|text\t|Read data from a JSON (JavaScript Object Notation) string representation|\tread_json|\tto_json|\n",
    "|text|\tRead all tables found in a given HTML document|\tread_html|\tto_html|\n",
    "|text\t|Data straight from local clipboard|\tread_clipboard|\tto_clipboard|\n",
    "|binary|\tTabular data from Excel xls or xlsx|\tread_excel|\tto_excel|\n",
    "|binary\t|Read HDF5 files written by pandas|\tread_hdf|\tto_hdf|\n",
    "|SQL\t|Results from an SQL query|\tread_sql|\tto_sql|\n",
    "|SQL\t|Google Big Query\t|read_gbq|\tto_gbq|"
   ]
  },
  {
   "cell_type": "code",
   "execution_count": 2,
   "metadata": {},
   "outputs": [
    {
     "data": {
      "text/html": [
       "<div>\n",
       "<style>\n",
       "    .dataframe thead tr:only-child th {\n",
       "        text-align: right;\n",
       "    }\n",
       "\n",
       "    .dataframe thead th {\n",
       "        text-align: left;\n",
       "    }\n",
       "\n",
       "    .dataframe tbody tr th {\n",
       "        vertical-align: top;\n",
       "    }\n",
       "</style>\n",
       "<table border=\"1\" class=\"dataframe\">\n",
       "  <thead>\n",
       "    <tr style=\"text-align: right;\">\n",
       "      <th></th>\n",
       "      <th>country</th>\n",
       "      <th>year</th>\n",
       "      <th>Population</th>\n",
       "      <th>GDP</th>\n",
       "    </tr>\n",
       "  </thead>\n",
       "  <tbody>\n",
       "    <tr>\n",
       "      <th>0</th>\n",
       "      <td>Arab World</td>\n",
       "      <td>2015</td>\n",
       "      <td>392022276.0</td>\n",
       "      <td>2.530102e+12</td>\n",
       "    </tr>\n",
       "    <tr>\n",
       "      <th>1</th>\n",
       "      <td>Arab World</td>\n",
       "      <td>2014</td>\n",
       "      <td>384222592.0</td>\n",
       "      <td>2.873600e+12</td>\n",
       "    </tr>\n",
       "    <tr>\n",
       "      <th>2</th>\n",
       "      <td>Arab World</td>\n",
       "      <td>2013</td>\n",
       "      <td>376504253.0</td>\n",
       "      <td>2.846994e+12</td>\n",
       "    </tr>\n",
       "    <tr>\n",
       "      <th>3</th>\n",
       "      <td>Arab World</td>\n",
       "      <td>2012</td>\n",
       "      <td>368802611.0</td>\n",
       "      <td>2.773270e+12</td>\n",
       "    </tr>\n",
       "    <tr>\n",
       "      <th>4</th>\n",
       "      <td>Arab World</td>\n",
       "      <td>2011</td>\n",
       "      <td>361031820.0</td>\n",
       "      <td>2.497945e+12</td>\n",
       "    </tr>\n",
       "  </tbody>\n",
       "</table>\n",
       "</div>"
      ],
      "text/plain": [
       "      country  year   Population           GDP\n",
       "0  Arab World  2015  392022276.0  2.530102e+12\n",
       "1  Arab World  2014  384222592.0  2.873600e+12\n",
       "2  Arab World  2013  376504253.0  2.846994e+12\n",
       "3  Arab World  2012  368802611.0  2.773270e+12\n",
       "4  Arab World  2011  361031820.0  2.497945e+12"
      ]
     },
     "execution_count": 2,
     "metadata": {},
     "output_type": "execute_result"
    }
   ],
   "source": [
    "# read_table is a general version of read_csv where you can specify the delimiter\n",
    "# absolute path reference - /home/nbuser/library/Notebooks/Data/worldstats.csv\n",
    "\n",
    "worldstats = pd.read_table('./Data/worldstats.csv', delimiter= ',')\n",
    "worldstats.head()"
   ]
  },
  {
   "cell_type": "markdown",
   "metadata": {},
   "source": [
    "### Reading HTML data into Pandas"
   ]
  },
  {
   "cell_type": "code",
   "execution_count": 3,
   "metadata": {},
   "outputs": [
    {
     "data": {
      "text/plain": [
       "10"
      ]
     },
     "execution_count": 3,
     "metadata": {},
     "output_type": "execute_result"
    }
   ],
   "source": [
    "# read_html scrapes all HTML tables from io and returns a list of DataFrames\n",
    "\n",
    "tables = pd.read_html('https://en.wikipedia.org/wiki/2018_in_film')\n",
    "len(tables)"
   ]
  },
  {
   "cell_type": "code",
   "execution_count": 4,
   "metadata": {},
   "outputs": [
    {
     "data": {
      "text/html": [
       "<div>\n",
       "<style>\n",
       "    .dataframe thead tr:only-child th {\n",
       "        text-align: right;\n",
       "    }\n",
       "\n",
       "    .dataframe thead th {\n",
       "        text-align: left;\n",
       "    }\n",
       "\n",
       "    .dataframe tbody tr th {\n",
       "        vertical-align: top;\n",
       "    }\n",
       "</style>\n",
       "<table border=\"1\" class=\"dataframe\">\n",
       "  <thead>\n",
       "    <tr style=\"text-align: right;\">\n",
       "      <th></th>\n",
       "      <th>0</th>\n",
       "      <th>1</th>\n",
       "      <th>2</th>\n",
       "      <th>3</th>\n",
       "    </tr>\n",
       "  </thead>\n",
       "  <tbody>\n",
       "    <tr>\n",
       "      <th>0</th>\n",
       "      <td>Rank</td>\n",
       "      <td>Title</td>\n",
       "      <td>Distributor</td>\n",
       "      <td>Worldwide gross</td>\n",
       "    </tr>\n",
       "    <tr>\n",
       "      <th>1</th>\n",
       "      <td>1</td>\n",
       "      <td>Avengers: Infinity War</td>\n",
       "      <td>Disney</td>\n",
       "      <td>$2,041,080,000</td>\n",
       "    </tr>\n",
       "    <tr>\n",
       "      <th>2</th>\n",
       "      <td>2</td>\n",
       "      <td>Black Panther</td>\n",
       "      <td>$1,346,554,297</td>\n",
       "      <td>NaN</td>\n",
       "    </tr>\n",
       "    <tr>\n",
       "      <th>3</th>\n",
       "      <td>3</td>\n",
       "      <td>Jurassic World: Fallen Kingdom</td>\n",
       "      <td>Universal</td>\n",
       "      <td>$1,134,697,215</td>\n",
       "    </tr>\n",
       "    <tr>\n",
       "      <th>4</th>\n",
       "      <td>4</td>\n",
       "      <td>Incredibles 2</td>\n",
       "      <td>Disney</td>\n",
       "      <td>$856,918,492</td>\n",
       "    </tr>\n",
       "    <tr>\n",
       "      <th>5</th>\n",
       "      <td>5</td>\n",
       "      <td>Deadpool 2</td>\n",
       "      <td>20th Century Fox</td>\n",
       "      <td>$730,840,378</td>\n",
       "    </tr>\n",
       "    <tr>\n",
       "      <th>6</th>\n",
       "      <td>6</td>\n",
       "      <td>Ready Player One</td>\n",
       "      <td>Warner Bros.</td>\n",
       "      <td>$582,018,455</td>\n",
       "    </tr>\n",
       "    <tr>\n",
       "      <th>7</th>\n",
       "      <td>7</td>\n",
       "      <td>Operation Red Sea</td>\n",
       "      <td>Huaxia Film</td>\n",
       "      <td>$579,220,560</td>\n",
       "    </tr>\n",
       "    <tr>\n",
       "      <th>8</th>\n",
       "      <td>8</td>\n",
       "      <td>Detective Chinatown 2</td>\n",
       "      <td>Wanda Media</td>\n",
       "      <td>$544,061,916</td>\n",
       "    </tr>\n",
       "    <tr>\n",
       "      <th>9</th>\n",
       "      <td>9</td>\n",
       "      <td>Rampage</td>\n",
       "      <td>Warner Bros.</td>\n",
       "      <td>$425,678,945</td>\n",
       "    </tr>\n",
       "    <tr>\n",
       "      <th>10</th>\n",
       "      <td>10</td>\n",
       "      <td>Solo: A Star Wars Story</td>\n",
       "      <td>Disney</td>\n",
       "      <td>$384,602,976</td>\n",
       "    </tr>\n",
       "  </tbody>\n",
       "</table>\n",
       "</div>"
      ],
      "text/plain": [
       "       0                               1                 2                3\n",
       "0   Rank                           Title       Distributor  Worldwide gross\n",
       "1      1          Avengers: Infinity War            Disney   $2,041,080,000\n",
       "2      2                   Black Panther    $1,346,554,297              NaN\n",
       "3      3  Jurassic World: Fallen Kingdom         Universal   $1,134,697,215\n",
       "4      4                   Incredibles 2            Disney     $856,918,492\n",
       "5      5                      Deadpool 2  20th Century Fox     $730,840,378\n",
       "6      6                Ready Player One      Warner Bros.     $582,018,455\n",
       "7      7               Operation Red Sea       Huaxia Film     $579,220,560\n",
       "8      8           Detective Chinatown 2       Wanda Media     $544,061,916\n",
       "9      9                         Rampage      Warner Bros.     $425,678,945\n",
       "10    10         Solo: A Star Wars Story            Disney     $384,602,976"
      ]
     },
     "execution_count": 4,
     "metadata": {},
     "output_type": "execute_result"
    }
   ],
   "source": [
    "# A single DataFrame can then be referenced through square bracket notation\n",
    "\n",
    "movies_2018 = tables[2]\n",
    "movies_2018"
   ]
  },
  {
   "cell_type": "markdown",
   "metadata": {},
   "source": [
    "### Optional arguments\n",
    "\n",
    "Real world data is messy, every dataset being unique with it's own nuances and formatting issues. As such, the data parsing functions have evolved with many optional parameters.\n",
    "\n",
    "The arguments for these functions generall fall into a few categories.\n",
    "\n",
    "__Indexing__ -  Subset the data on import/provide references for column names/index\n",
    "\n",
    "__Type inference/Conversion__ -  Classify the datatypes of each column or provide custom lists of missing value markers\n",
    "\n",
    "__Datetime Parsing__ - Includes combining date/time information from multiple columns into a single column\n",
    "\n",
    "__Iterating__ -  Iterating over chunks of data for large files\n",
    "\n",
    "__Unclean data issues__ -  Skip rows/footers or maybe specify that numeric data has a comma thousand separator\n",
    "\n",
    "[IO](http://pandas.pydata.org/pandas-docs/stable/io.html) has many examples about how each of them works."
   ]
  },
  {
   "cell_type": "markdown",
   "metadata": {},
   "source": [
    "## Reading Microsoft Excel Files"
   ]
  },
  {
   "cell_type": "markdown",
   "metadata": {},
   "source": [
    "Pandas supports reading tabular data stored in Excel 2003 and higher."
   ]
  },
  {
   "cell_type": "code",
   "execution_count": 6,
   "metadata": {},
   "outputs": [
    {
     "data": {
      "text/html": [
       "<div>\n",
       "<style>\n",
       "    .dataframe thead tr:only-child th {\n",
       "        text-align: right;\n",
       "    }\n",
       "\n",
       "    .dataframe thead th {\n",
       "        text-align: left;\n",
       "    }\n",
       "\n",
       "    .dataframe tbody tr th {\n",
       "        vertical-align: top;\n",
       "    }\n",
       "</style>\n",
       "<table border=\"1\" class=\"dataframe\">\n",
       "  <thead>\n",
       "    <tr style=\"text-align: right;\">\n",
       "      <th></th>\n",
       "      <th>country</th>\n",
       "      <th>year</th>\n",
       "      <th>Population</th>\n",
       "      <th>GDP</th>\n",
       "    </tr>\n",
       "  </thead>\n",
       "  <tbody>\n",
       "    <tr>\n",
       "      <th>0</th>\n",
       "      <td>Arab World</td>\n",
       "      <td>2015</td>\n",
       "      <td>392022276.0</td>\n",
       "      <td>2.530102e+12</td>\n",
       "    </tr>\n",
       "    <tr>\n",
       "      <th>1</th>\n",
       "      <td>Arab World</td>\n",
       "      <td>2014</td>\n",
       "      <td>384222592.0</td>\n",
       "      <td>2.873600e+12</td>\n",
       "    </tr>\n",
       "    <tr>\n",
       "      <th>2</th>\n",
       "      <td>Arab World</td>\n",
       "      <td>2013</td>\n",
       "      <td>376504253.0</td>\n",
       "      <td>2.846994e+12</td>\n",
       "    </tr>\n",
       "    <tr>\n",
       "      <th>3</th>\n",
       "      <td>Arab World</td>\n",
       "      <td>2012</td>\n",
       "      <td>368802611.0</td>\n",
       "      <td>2.773270e+12</td>\n",
       "    </tr>\n",
       "    <tr>\n",
       "      <th>4</th>\n",
       "      <td>Arab World</td>\n",
       "      <td>2011</td>\n",
       "      <td>361031820.0</td>\n",
       "      <td>2.497945e+12</td>\n",
       "    </tr>\n",
       "  </tbody>\n",
       "</table>\n",
       "</div>"
      ],
      "text/plain": [
       "      country  year   Population           GDP\n",
       "0  Arab World  2015  392022276.0  2.530102e+12\n",
       "1  Arab World  2014  384222592.0  2.873600e+12\n",
       "2  Arab World  2013  376504253.0  2.846994e+12\n",
       "3  Arab World  2012  368802611.0  2.773270e+12\n",
       "4  Arab World  2011  361031820.0  2.497945e+12"
      ]
     },
     "execution_count": 6,
     "metadata": {},
     "output_type": "execute_result"
    }
   ],
   "source": [
    "# Reading in the same DataFrame as before but from a xlsx workbook\n",
    "# It is possible to pass the filename straight into read_excel but multiple sheets are faster \n",
    "# when you create the ExcelFile instance\n",
    "\n",
    "xlsx = pd.ExcelFile('./Data/Excel_WorldStats.xlsx')\n",
    "pd.read_excel(xlsx, 'Sheet1').head()"
   ]
  },
  {
   "cell_type": "markdown",
   "metadata": {},
   "source": [
    "## Writing Data to Text Formats\n",
    "\n",
    "### Export `DataFrames` to CSV File with the [`to_csv`](https://pandas.pydata.org/pandas-docs/stable/generated/pandas.DataFrame.to_csv.html) Method"
   ]
  },
  {
   "cell_type": "code",
   "execution_count": 8,
   "metadata": {},
   "outputs": [
    {
     "data": {
      "text/html": [
       "<div>\n",
       "<style>\n",
       "    .dataframe thead tr:only-child th {\n",
       "        text-align: right;\n",
       "    }\n",
       "\n",
       "    .dataframe thead th {\n",
       "        text-align: left;\n",
       "    }\n",
       "\n",
       "    .dataframe tbody tr th {\n",
       "        vertical-align: top;\n",
       "    }\n",
       "</style>\n",
       "<table border=\"1\" class=\"dataframe\">\n",
       "  <thead>\n",
       "    <tr style=\"text-align: right;\">\n",
       "      <th></th>\n",
       "      <th>year</th>\n",
       "      <th>name</th>\n",
       "      <th>percent</th>\n",
       "      <th>sex</th>\n",
       "    </tr>\n",
       "  </thead>\n",
       "  <tbody>\n",
       "    <tr>\n",
       "      <th>0</th>\n",
       "      <td>1880</td>\n",
       "      <td>John</td>\n",
       "      <td>0.081541</td>\n",
       "      <td>boy</td>\n",
       "    </tr>\n",
       "    <tr>\n",
       "      <th>1</th>\n",
       "      <td>1880</td>\n",
       "      <td>William</td>\n",
       "      <td>0.080511</td>\n",
       "      <td>boy</td>\n",
       "    </tr>\n",
       "    <tr>\n",
       "      <th>2</th>\n",
       "      <td>1880</td>\n",
       "      <td>James</td>\n",
       "      <td>0.050057</td>\n",
       "      <td>boy</td>\n",
       "    </tr>\n",
       "    <tr>\n",
       "      <th>3</th>\n",
       "      <td>1880</td>\n",
       "      <td>Charles</td>\n",
       "      <td>0.045167</td>\n",
       "      <td>boy</td>\n",
       "    </tr>\n",
       "    <tr>\n",
       "      <th>4</th>\n",
       "      <td>1880</td>\n",
       "      <td>George</td>\n",
       "      <td>0.043292</td>\n",
       "      <td>boy</td>\n",
       "    </tr>\n",
       "  </tbody>\n",
       "</table>\n",
       "</div>"
      ],
      "text/plain": [
       "   year     name   percent  sex\n",
       "0  1880     John  0.081541  boy\n",
       "1  1880  William  0.080511  boy\n",
       "2  1880    James  0.050057  boy\n",
       "3  1880  Charles  0.045167  boy\n",
       "4  1880   George  0.043292  boy"
      ]
     },
     "execution_count": 8,
     "metadata": {},
     "output_type": "execute_result"
    }
   ],
   "source": [
    "# New dataframe from a github hosted csv file\n",
    "\n",
    "baby_names = pd.read_csv(\"https://raw.githubusercontent.com/hadley/data-baby-names/master/baby-names.csv\")\n",
    "baby_names.head()"
   ]
  },
  {
   "cell_type": "code",
   "execution_count": 9,
   "metadata": {},
   "outputs": [],
   "source": [
    "# export using the to_csv method - Note the extra arguments passed\n",
    "\n",
    "baby_names.to_csv(\"./Data/Baby_Names.csv\", index = False, columns = [\"year\", \"name\", \"percent\", \"sex\"], encoding = \"utf-8\")"
   ]
  },
  {
   "cell_type": "markdown",
   "metadata": {},
   "source": [
    "### Export `DataFrames` to Excel File with the [`to_excel`](https://pandas.pydata.org/pandas-docs/stable/generated/pandas.DataFrame.to_excel.html) Method"
   ]
  },
  {
   "cell_type": "code",
   "execution_count": 10,
   "metadata": {},
   "outputs": [],
   "source": [
    "# for Excel files create an ExcelWriter instance first or pass file path straight to to_excel\n",
    "\n",
    "excel_file = pd.ExcelWriter(\"./Data/Baby_Name_Percentages.xlsx\" )"
   ]
  },
  {
   "cell_type": "code",
   "execution_count": 11,
   "metadata": {},
   "outputs": [],
   "source": [
    "# after adding dataframe to sheets - save\n",
    "\n",
    "baby_names.head().to_excel(excel_file, index = False, sheet_name= 'Baby_Names')\n",
    "excel_file.save()"
   ]
  },
  {
   "cell_type": "markdown",
   "metadata": {},
   "source": [
    "### Want to read and write to the same file in Excel?\n",
    "\n",
    "Whilst completely possible, by default when Pandas writes to an existing file the file is overwritten and the original data will be lost.\n",
    "\n",
    "For more in depth control of Excel files with python - check out [**openpyxl**](https://openpyxl.readthedocs.io/en/stable/)\n",
    "\n",
    "This library allows for much greater control of excel files including formatting and reading/writing to the same workbook."
   ]
  },
  {
   "cell_type": "markdown",
   "metadata": {},
   "source": [
    "### Interacting with Web APIs & Databases\n",
    "\n",
    "**Web APIs** - Many websites and applications provide data feeds via JSON. There are a number of ways to access these APIs but one of the easiest is the [**requests**](http://docs.python-requests.org/en/master/) package. Often the Python community has already written higher level wrappers specifically for the API that you want to access which populate the data straight into a Pandas DataFrame.\n",
    "\n",
    "**Databases** - Likewise, often data exists in relational and non-relational databases. Specific databases have their own Python connectors and a popular Python SQL toolkit is the [**SQLAlchemy project**](https://www.sqlalchemy.org/)."
   ]
  },
  {
   "cell_type": "markdown",
   "metadata": {},
   "source": [
    "## Exercises\n",
    "***"
   ]
  },
  {
   "cell_type": "markdown",
   "metadata": {},
   "source": [
    "__1)__ Give Wikipedia a quick trawl and find an interesting page that contains at least one HTML table. Use the Pandas`read_html`function to import this into a Pandas DataFrame or Series.\n",
    "\n",
    "Notice any issues with the data, incorrect column names or erroneous data? \n",
    "\n",
    "Now export this out as a csv/Excel file. We will attempt to clean up the DataFrame in a future module."
   ]
  },
  {
   "cell_type": "markdown",
   "metadata": {},
   "source": [
    "__2) Talking point__ What sources of data do you work with? What's the normal output of your work - Excel, Tableau?"
   ]
  },
  {
   "cell_type": "markdown",
   "metadata": {},
   "source": [
    "# Recap\n",
    "***\n",
    "\n",
    "1. Pandas provides many top level reader functions for different data formats. \n",
    "\n",
    "\n",
    "2. `read_table` is the main function for reading in general delimited files.  \n",
    "\n",
    "\n",
    "3. Reader functions accept both relative and absolute file references. For relative references, **.** is the current folder and **..** is the folder above the current folder. \n",
    "\n",
    "\n",
    "4. Reading/Writing functions provide multiple parameters to deal with real world data.\n",
    "\n",
    "\n",
    "5. For greater control of reading/writing data to Excel - look into `openpyxl` library.  \n",
    "\n",
    "\n",
    "6. Many Web APIs and databases have high level Python wrappers written to facilitate easy Python integration."
   ]
  },
  {
   "cell_type": "markdown",
   "metadata": {},
   "source": [
    "<!--NAVIGATION-->\n",
    "< [Pandas Foundations](02_Pandas_Foundations.ipynb) | [Contents](Index.ipynb) | [Pandas Selection and Indexing](04_Pandas_DataSelection_Indexing.ipynb) >"
   ]
  }
 ],
 "metadata": {
  "kernelspec": {
   "display_name": "Python 3.6",
   "language": "python",
   "name": "python36"
  },
  "language_info": {
   "codemirror_mode": {
    "name": "ipython",
    "version": 3
   },
   "file_extension": ".py",
   "mimetype": "text/x-python",
   "name": "python",
   "nbconvert_exporter": "python",
   "pygments_lexer": "ipython3",
   "version": "3.6.3"
  }
 },
 "nbformat": 4,
 "nbformat_minor": 2
}
