{
 "cells": [
  {
   "cell_type": "markdown",
   "metadata": {},
   "source": [
    "# Introduction to Data Manipulation\n",
    "***"
   ]
  },
  {
   "cell_type": "markdown",
   "metadata": {},
   "source": [
    "[Python Fundamentals](01_Python_Fundamentals.ipynb)  \n",
    "\n",
    "[Pandas Foundations](02_Pandas_Foundations.ipynb)  \n",
    "\n",
    "[Pandas IO](03_Pandas_Data_IO.ipynb)  \n",
    "\n",
    "[Data Selection](04_Pandas_DataSelection_Indexing.ipynb)  \n",
    "\n",
    "[Essential Functionality](05_Pandas_EssentialFunctionality.ipynb)  \n",
    "\n",
    "[Merge Join & Concatenate](06_Merge_Join_Concatenate.ipynb)  \n",
    "\n",
    "[Map Apply](07_Map_Apply.ipynb)  "
   ]
  }
 ],
 "metadata": {
  "kernelspec": {
   "display_name": "Python 3",
   "language": "python",
   "name": "python3"
  },
  "language_info": {
   "codemirror_mode": {
    "name": "ipython",
    "version": 3
   },
   "file_extension": ".py",
   "mimetype": "text/x-python",
   "name": "python",
   "nbconvert_exporter": "python",
   "pygments_lexer": "ipython3",
   "version": "3.6.1"
  }
 },
 "nbformat": 4,
 "nbformat_minor": 2
}
